{
    "nbformat_minor": 1, 
    "cells": [
        {
            "source": "# Data description\n\n### New York has many boroughs and neighborhoods. In order to explore them, we will need a dataset that contains the data about these boroughs and neighborhoods, as well as the latitudes and longitudes. We will look to readliy available dataset published in  https://geo.nyu.edu/catalog/nyu_2451_34572\n\n### For location data, we will utilize Foursquare API in order to explore and segment the neighborhoods. Foursquare contains a comprehensive location data about many venues that we will be able to segment and rank, in order for FunX to program the itenery to recommend to its target customers such: \n\n### 1. Places of interest\n### 2. Restaurants for authentic American foods\n### 3. Bars and nigh clubs\n### 4. Shops", 
            "cell_type": "markdown", 
            "metadata": {
                "collapsed": true
            }
        }
    ], 
    "metadata": {
        "kernelspec": {
            "display_name": "Python 3.5", 
            "name": "python3", 
            "language": "python"
        }, 
        "language_info": {
            "mimetype": "text/x-python", 
            "nbconvert_exporter": "python", 
            "version": "3.5.5", 
            "name": "python", 
            "file_extension": ".py", 
            "pygments_lexer": "ipython3", 
            "codemirror_mode": {
                "version": 3, 
                "name": "ipython"
            }
        }
    }, 
    "nbformat": 4
}