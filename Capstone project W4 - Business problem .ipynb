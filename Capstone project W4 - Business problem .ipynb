{
    "nbformat_minor": 1, 
    "cells": [
        {
            "source": "# Introduction/ Business problem", 
            "cell_type": "markdown", 
            "metadata": {
                "collapsed": true
            }
        }, 
        {
            "source": "### FunX Tours, a tour operating startup in the New York city, has decided to utilize data science techniques in order to differentiate itself from the very competitive tourism market in New York. \n\n### FunX Tours targets the 25-35 year olds as its customers as they think this group likes to explore trendy venues and is willing to allocate a large traveling budget. \n\n### However, this group of customers is also not afraid to post negative comments about a venue or even FunX Tours if they find the tour agenda is less than satisfactory. Therefore, FunX needs to carefully selects its itenery, and frequently updates it.\n\n### FunX Tours has approached us to apply data science to help them achieve the above goal. \n", 
            "cell_type": "markdown", 
            "metadata": {}
        }, 
        {
            "execution_count": null, 
            "cell_type": "code", 
            "metadata": {}, 
            "outputs": [], 
            "source": ""
        }
    ], 
    "metadata": {
        "kernelspec": {
            "display_name": "Python 3.5", 
            "name": "python3", 
            "language": "python"
        }, 
        "language_info": {
            "mimetype": "text/x-python", 
            "nbconvert_exporter": "python", 
            "version": "3.5.5", 
            "name": "python", 
            "file_extension": ".py", 
            "pygments_lexer": "ipython3", 
            "codemirror_mode": {
                "version": 3, 
                "name": "ipython"
            }
        }
    }, 
    "nbformat": 4
}